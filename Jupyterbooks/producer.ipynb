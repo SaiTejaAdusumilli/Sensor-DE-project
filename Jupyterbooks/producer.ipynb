{
 "cells": [
  {
   "cell_type": "code",
   "execution_count": 1,
   "id": "7075614e",
   "metadata": {},
   "outputs": [
    {
     "name": "stdout",
     "output_type": "stream",
     "text": [
      "Collecting kafka-python\n",
      "  Obtaining dependency information for kafka-python from https://files.pythonhosted.org/packages/75/68/dcb0db055309f680ab2931a3eeb22d865604b638acf8c914bedf4c1a0c8c/kafka_python-2.0.2-py2.py3-none-any.whl.metadata\n",
      "  Downloading kafka_python-2.0.2-py2.py3-none-any.whl.metadata (7.8 kB)\n",
      "Downloading kafka_python-2.0.2-py2.py3-none-any.whl (246 kB)\n",
      "   ---------------------------------------- 0.0/246.5 kB ? eta -:--:--\n",
      "   - -------------------------------------- 10.2/246.5 kB ? eta -:--:--\n",
      "   ------ -------------------------------- 41.0/246.5 kB 653.6 kB/s eta 0:00:01\n",
      "   ------------------------ --------------- 153.6/246.5 kB 1.5 MB/s eta 0:00:01\n",
      "   ---------------------------------------- 246.5/246.5 kB 1.9 MB/s eta 0:00:00\n",
      "Installing collected packages: kafka-python\n",
      "Successfully installed kafka-python-2.0.2\n"
     ]
    }
   ],
   "source": [
    "!pip install kafka-python"
   ]
  },
  {
   "cell_type": "code",
   "execution_count": 5,
   "id": "0dd1bd14",
   "metadata": {},
   "outputs": [],
   "source": [
    "import pandas as pd\n",
    "from kafka import KafkaProducer, KafkaConsumer\n",
    "from time import sleep\n",
    "from json import dumps\n",
    "import json"
   ]
  },
  {
   "cell_type": "code",
   "execution_count": 2,
   "id": "8d344f2b",
   "metadata": {},
   "outputs": [],
   "source": [
    "producer = KafkaProducer(bootstrap_servers=['3.145.152.120:9092'], \n",
    "                         value_serializer=lambda x: \n",
    "                         dumps(x).encode('utf-8'))"
   ]
  },
  {
   "cell_type": "code",
   "execution_count": 19,
   "id": "9c83debf",
   "metadata": {},
   "outputs": [
    {
     "data": {
      "text/plain": [
       "<kafka.producer.future.FutureRecordMetadata at 0x24f4461e1d0>"
      ]
     },
     "execution_count": 19,
     "metadata": {},
     "output_type": "execute_result"
    }
   ],
   "source": [
    "producer.send('kafka-topic', value={'key':'saiteja123'})"
   ]
  },
  {
   "cell_type": "code",
   "execution_count": 11,
   "id": "c01dd700",
   "metadata": {},
   "outputs": [],
   "source": []
  },
  {
   "cell_type": "code",
   "execution_count": 27,
   "id": "dec4ca73",
   "metadata": {},
   "outputs": [
    {
     "name": "stdout",
     "output_type": "stream",
     "text": [
      "{\"data\": \"test-data-body\"}\n"
     ]
    },
    {
     "data": {
      "text/plain": [
       "<kafka.producer.future.FutureRecordMetadata at 0x24f449e33d0>"
      ]
     },
     "execution_count": 27,
     "metadata": {},
     "output_type": "execute_result"
    }
   ],
   "source": [
    "import requests\n",
    "import json\n",
    "\n",
    "url = \"https://plnxokfkc5.execute-api.us-east-2.amazonaws.com/sensor-data-py\"\n",
    "\n",
    "payload = json.dumps({\n",
    "  \"data\": \"test-data-body\"\n",
    "})\n",
    "headers = {\n",
    "  'Content-Type': 'application/json'\n",
    "}\n",
    "\n",
    "response = requests.request(\"POST\", url, headers=headers, data=payload)\n",
    "\n",
    "print(response.text)\n",
    "response=(response.text)\n",
    "\n",
    "producer.send('kafka-topic', value=response)"
   ]
  },
  {
   "cell_type": "code",
   "execution_count": null,
   "id": "4309303a",
   "metadata": {},
   "outputs": [],
   "source": []
  },
  {
   "cell_type": "code",
   "execution_count": null,
   "id": "d4402e3a",
   "metadata": {},
   "outputs": [],
   "source": []
  },
  {
   "cell_type": "code",
   "execution_count": null,
   "id": "54d1eaad",
   "metadata": {},
   "outputs": [],
   "source": []
  },
  {
   "cell_type": "code",
   "execution_count": null,
   "id": "5e669931",
   "metadata": {},
   "outputs": [],
   "source": []
  },
  {
   "cell_type": "code",
   "execution_count": 10,
   "id": "81767577",
   "metadata": {},
   "outputs": [],
   "source": [
    "from json import dumps,loads\n",
    "import json"
   ]
  },
  {
   "cell_type": "code",
   "execution_count": null,
   "id": "1d3c5dba",
   "metadata": {},
   "outputs": [],
   "source": []
  },
  {
   "cell_type": "code",
   "execution_count": 6,
   "id": "872f954a",
   "metadata": {},
   "outputs": [],
   "source": [
    "consumer = KafkaConsumer(\n",
    "    'kafka-topic',\n",
    "     bootstrap_servers=['3.145.152.120:9092'], \n",
    "    value_deserializer=lambda x: loads(x.decode('utf-8')))"
   ]
  },
  {
   "cell_type": "code",
   "execution_count": null,
   "id": "a6657bff",
   "metadata": {},
   "outputs": [],
   "source": []
  },
  {
   "cell_type": "code",
   "execution_count": 34,
   "id": "6c9c0e45",
   "metadata": {},
   "outputs": [
    {
     "name": "stdout",
     "output_type": "stream",
     "text": [
      "[{'id': 1, 'category': 'Walmart Groceries', 'description': 'Groceries like rice, chairs', 'date': '2024-05-26', 'amount': 40}, {'id': 2, 'category': 'Birthday groceries', 'description': 'Biryani, cold drinks, starters', 'date': '2024-04-29', 'amount': 450}, {'id': 3, 'category': 'Birthday groceries', 'description': 'Biryani, cold drinks, starters', 'date': '2024-04-29', 'amount': 450}]\n",
      "{'id': 1, 'category': 'Walmart Groceries', 'description': 'Groceries like rice, chairs', 'date': '2024-05-26', 'amount': 40}\n",
      "{'id': 2, 'category': 'Birthday groceries', 'description': 'Biryani, cold drinks, starters', 'date': '2024-04-29', 'amount': 450}\n",
      "{'id': 3, 'category': 'Birthday groceries', 'description': 'Biryani, cold drinks, starters', 'date': '2024-04-29', 'amount': 450}\n",
      "[{'id': 1, 'category': 'Walmart Groceries', 'description': 'Groceries like rice, chairs', 'date': '2024-05-26', 'amount': 40}, {'id': 2, 'category': 'Birthday groceries', 'description': 'Biryani, cold drinks, starters', 'date': '2024-04-29', 'amount': 450}, {'id': 3, 'category': 'Birthday groceries', 'description': 'Biryani, cold drinks, starters', 'date': '2024-04-29', 'amount': 450}]\n"
     ]
    }
   ],
   "source": [
    "import requests\n",
    "import json\n",
    "\n",
    "def get_stock_data():\n",
    "    url = 'http://127.0.0.1:8000/api/get/'    \n",
    "    response = requests.get(url)\n",
    "     \n",
    "    if response.status_code == 200:\n",
    "        data = response.json()\n",
    "        print(data)\n",
    "        for i in data:\n",
    "            print(i)\n",
    "#             producer.send('kafka-topic', value={'category':i['category'], 'id':i['id']})   \n",
    "        return data\n",
    "    else:\n",
    "        return None\n",
    " \n",
    "data = get_stock_data()\n",
    "print(data)\n"
   ]
  },
  {
   "cell_type": "code",
   "execution_count": 20,
   "id": "0bacf8cb",
   "metadata": {},
   "outputs": [],
   "source": [
    "producer.flush()"
   ]
  },
  {
   "cell_type": "code",
   "execution_count": null,
   "id": "44de4ba4",
   "metadata": {},
   "outputs": [],
   "source": []
  }
 ],
 "metadata": {
  "kernelspec": {
   "display_name": "Python 3 (ipykernel)",
   "language": "python",
   "name": "python3"
  },
  "language_info": {
   "codemirror_mode": {
    "name": "ipython",
    "version": 3
   },
   "file_extension": ".py",
   "mimetype": "text/x-python",
   "name": "python",
   "nbconvert_exporter": "python",
   "pygments_lexer": "ipython3",
   "version": "3.11.5"
  }
 },
 "nbformat": 4,
 "nbformat_minor": 5
}
