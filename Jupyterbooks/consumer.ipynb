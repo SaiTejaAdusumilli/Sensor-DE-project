{
 "cells": [
  {
   "cell_type": "code",
   "execution_count": 1,
   "id": "1d9a51d6",
   "metadata": {},
   "outputs": [],
   "source": [
    "import pandas as pd\n",
    "from kafka import KafkaProducer, KafkaConsumer\n",
    "from time import sleep\n",
    "from json import dumps\n",
    "import json"
   ]
  },
  {
   "cell_type": "code",
   "execution_count": 2,
   "id": "5408784a",
   "metadata": {},
   "outputs": [],
   "source": [
    "from json import dumps,loads\n",
    "import json"
   ]
  },
  {
   "cell_type": "code",
   "execution_count": 8,
   "id": "04ec6a2b",
   "metadata": {},
   "outputs": [],
   "source": [
    "consumer = KafkaConsumer(\n",
    "    'kafka-topic',\n",
    "     bootstrap_servers=['3.145.152.120:9092'],\n",
    "    value_deserializer=lambda x: loads(x.decode('utf-8')))"
   ]
  },
  {
   "cell_type": "code",
   "execution_count": null,
   "id": "8a340ce1",
   "metadata": {
    "collapsed": true
   },
   "outputs": [],
   "source": [
    "import pandas as pd\n",
    "from datetime import datetime\n",
    "\n",
    "today=str(datetime.now().date())\n",
    "for count, body in enumerate(consumer):\n",
    "    data = body.value[\"payload\"]\n",
    "    df = pd.DataFrame(data)\n",
    "    df['lux'] = df['values'].apply(lambda x: x['lux'])\n",
    "    df['time'] = df['time'].apply(lambda x: datetime.fromtimestamp(x / 10**9).strftime('%d/%m/%y %H:%M:%S'))\n",
    "    df.drop(columns=['values','name','accuracy'], inplace=True)\n",
    "    print(df)\n",
    "    bucket_name = 'temp-buck007'\n",
    "    csv_content = df.to_csv(index=False)\n",
    "    with s3.open(f'{bucket_name}/data_{today}/file_{count+1}.csv', 'w') as f:\n",
    "        f.write(csv_content)\n",
    "    "
   ]
  },
  {
   "cell_type": "code",
   "execution_count": null,
   "id": "511ac2b0",
   "metadata": {},
   "outputs": [],
   "source": []
  },
  {
   "cell_type": "code",
   "execution_count": null,
   "id": "ac264dbb",
   "metadata": {},
   "outputs": [],
   "source": []
  },
  {
   "cell_type": "code",
   "execution_count": null,
   "id": "b5a5afea",
   "metadata": {},
   "outputs": [],
   "source": []
  },
  {
   "cell_type": "code",
   "execution_count": null,
   "id": "9f339bbb",
   "metadata": {},
   "outputs": [],
   "source": []
  },
  {
   "cell_type": "code",
   "execution_count": 87,
   "id": "baab265b",
   "metadata": {},
   "outputs": [],
   "source": [
    "data = [{'name': 'light', 'values': {'lux': 21}, 'accuracy': 3, 'time': 1718222132091171300}, {'name': 'light', 'values': {'lux': 22}, 'accuracy': 3, 'time': 1718222132291169300}, {'name': 'light', 'values': {'lux': 22}, 'accuracy': 3, 'time': 1718222132491167000}, {'name': 'light', 'values': {'lux': 22}, 'accuracy': 3, 'time': 1718222132691165200}, {'name': 'light', 'values': {'lux': 22}, 'accuracy': 3, 'time': 1718222132891178500}, {'name': 'light', 'values': {'lux': 21}, 'accuracy': 3, 'time': 1718222133091165400}, {'name': 'light', 'values': {'lux': 20}, 'accuracy': 3, 'time': 1718222133291164200}]\n",
    "\n",
    "df = pd.DataFrame(data)\n",
    "df['lux'] = df['values'].apply(lambda x: x['lux'])\n",
    "df['time_format'] = df['time'].apply(lambda x: datetime.fromtimestamp(x / 10**9).strftime('%d/%m/%y %H:%M:%S'))\n",
    "df.drop(columns=['values','name','accuracy'], inplace=True)"
   ]
  },
  {
   "cell_type": "code",
   "execution_count": 90,
   "id": "ffcea704",
   "metadata": {},
   "outputs": [
    {
     "data": {
      "text/html": [
       "<div>\n",
       "<style scoped>\n",
       "    .dataframe tbody tr th:only-of-type {\n",
       "        vertical-align: middle;\n",
       "    }\n",
       "\n",
       "    .dataframe tbody tr th {\n",
       "        vertical-align: top;\n",
       "    }\n",
       "\n",
       "    .dataframe thead th {\n",
       "        text-align: right;\n",
       "    }\n",
       "</style>\n",
       "<table border=\"1\" class=\"dataframe\">\n",
       "  <thead>\n",
       "    <tr style=\"text-align: right;\">\n",
       "      <th></th>\n",
       "      <th>time</th>\n",
       "      <th>lux</th>\n",
       "      <th>time_format</th>\n",
       "    </tr>\n",
       "  </thead>\n",
       "  <tbody>\n",
       "    <tr>\n",
       "      <th>0</th>\n",
       "      <td>1718222132091171300</td>\n",
       "      <td>21</td>\n",
       "      <td>12/06/24 15:55:32</td>\n",
       "    </tr>\n",
       "    <tr>\n",
       "      <th>1</th>\n",
       "      <td>1718222132291169300</td>\n",
       "      <td>22</td>\n",
       "      <td>12/06/24 15:55:32</td>\n",
       "    </tr>\n",
       "    <tr>\n",
       "      <th>2</th>\n",
       "      <td>1718222132491167000</td>\n",
       "      <td>22</td>\n",
       "      <td>12/06/24 15:55:32</td>\n",
       "    </tr>\n",
       "    <tr>\n",
       "      <th>3</th>\n",
       "      <td>1718222132691165200</td>\n",
       "      <td>22</td>\n",
       "      <td>12/06/24 15:55:32</td>\n",
       "    </tr>\n",
       "    <tr>\n",
       "      <th>4</th>\n",
       "      <td>1718222132891178500</td>\n",
       "      <td>22</td>\n",
       "      <td>12/06/24 15:55:32</td>\n",
       "    </tr>\n",
       "    <tr>\n",
       "      <th>5</th>\n",
       "      <td>1718222133091165400</td>\n",
       "      <td>21</td>\n",
       "      <td>12/06/24 15:55:33</td>\n",
       "    </tr>\n",
       "    <tr>\n",
       "      <th>6</th>\n",
       "      <td>1718222133291164200</td>\n",
       "      <td>20</td>\n",
       "      <td>12/06/24 15:55:33</td>\n",
       "    </tr>\n",
       "  </tbody>\n",
       "</table>\n",
       "</div>"
      ],
      "text/plain": [
       "                  time  lux        time_format\n",
       "0  1718222132091171300   21  12/06/24 15:55:32\n",
       "1  1718222132291169300   22  12/06/24 15:55:32\n",
       "2  1718222132491167000   22  12/06/24 15:55:32\n",
       "3  1718222132691165200   22  12/06/24 15:55:32\n",
       "4  1718222132891178500   22  12/06/24 15:55:32\n",
       "5  1718222133091165400   21  12/06/24 15:55:33\n",
       "6  1718222133291164200   20  12/06/24 15:55:33"
      ]
     },
     "execution_count": 90,
     "metadata": {},
     "output_type": "execute_result"
    }
   ],
   "source": [
    "df"
   ]
  },
  {
   "cell_type": "code",
   "execution_count": 71,
   "id": "9d687ac4",
   "metadata": {},
   "outputs": [],
   "source": []
  },
  {
   "cell_type": "code",
   "execution_count": null,
   "id": "3bc58445",
   "metadata": {},
   "outputs": [],
   "source": []
  },
  {
   "cell_type": "code",
   "execution_count": 91,
   "id": "d78ce540",
   "metadata": {},
   "outputs": [],
   "source": [
    "from s3fs import S3FileSystem"
   ]
  },
  {
   "cell_type": "code",
   "execution_count": 92,
   "id": "91cb503b",
   "metadata": {},
   "outputs": [],
   "source": [
    "s3 = S3FileSystem()"
   ]
  },
  {
   "cell_type": "code",
   "execution_count": 95,
   "id": "d7150da4",
   "metadata": {},
   "outputs": [],
   "source": [
    "bucket_name = 'temp-buck007'\n",
    "file_key = 'data/file_1.csv' \n",
    "\n",
    "csv_content = df.to_csv(index=False)\n",
    "\n",
    "with s3.open(f'{bucket_name}/{file_key}', 'w') as f:\n",
    "    f.write(csv_content)\n"
   ]
  },
  {
   "cell_type": "code",
   "execution_count": null,
   "id": "b7f703a8",
   "metadata": {},
   "outputs": [],
   "source": []
  }
 ],
 "metadata": {
  "kernelspec": {
   "display_name": "Python 3 (ipykernel)",
   "language": "python",
   "name": "python3"
  },
  "language_info": {
   "codemirror_mode": {
    "name": "ipython",
    "version": 3
   },
   "file_extension": ".py",
   "mimetype": "text/x-python",
   "name": "python",
   "nbconvert_exporter": "python",
   "pygments_lexer": "ipython3",
   "version": "3.11.5"
  }
 },
 "nbformat": 4,
 "nbformat_minor": 5
}
